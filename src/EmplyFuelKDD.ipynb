{
 "cells": [
  {
   "cell_type": "code",
   "execution_count": null,
   "metadata": {},
   "outputs": [],
   "source": [
    "import pandas as pd"
   ]
  },
  {
   "cell_type": "code",
   "execution_count": null,
   "metadata": {},
   "outputs": [],
   "source": [
    "# Read the data\n",
    "dfnt_raw = pd.read_csv('23100039CicilEmplyFuel.csv')\n",
    "print(f'Data frame shape: {dfnt_raw.shape}')\n",
    "dfnt_raw.sample(30)"
   ]
  },
  {
   "cell_type": "code",
   "execution_count": null,
   "metadata": {},
   "outputs": [],
   "source": [
    "# Get only columns we want to work with\n",
    "key = ['REF_DATE', 'Operating statistics type', 'Air carrier levels','Employment and fuel consumption','UOM','SCALAR_FACTOR','VALUE']\n",
    "df = dfnt_raw[key]\n",
    "df.head(12)"
   ]
  },
  {
   "cell_type": "code",
   "execution_count": null,
   "metadata": {},
   "outputs": [],
   "source": [
    "# Get only columns we want to work with\n",
    "key = ['REF_DATE', 'Operating statistics type', 'Air carrier levels','UOM','VALUE']\n",
    "dfs = dfnt_raw[key]\n",
    "dfs.head(12)"
   ]
  },
  {
   "cell_type": "code",
   "execution_count": null,
   "metadata": {},
   "outputs": [],
   "source": [
    "# Get 'Number'\n",
    "carriers_number = dfs.loc[df['UOM']=='Number']\n",
    "carriers_number = carriers_number.drop('UOM', axis=1)\n",
    "carriers_number.head(22)"
   ]
  },
  {
   "cell_type": "code",
   "execution_count": null,
   "metadata": {},
   "outputs": [],
   "source": [
    "# Pivot number table\n",
    "Mycolumn='Operating statistics type'\n",
    "carriers_numberT = carriers_number.pivot_table(index= ['REF_DATE','Air carrier levels'], columns= Mycolumn, values='VALUE')\n",
    "carriers_numberT.reset_index(inplace=True)\n",
    "display(carriers_numberT)"
   ]
  },
  {
   "cell_type": "code",
   "execution_count": null,
   "metadata": {},
   "outputs": [],
   "source": [
    "# Get 'Dollar'\n",
    "carriers_dollars = dfs.loc[df['UOM']=='Dollars']\n",
    "carriers_dollars = carriers_dollars.drop('UOM', axis=1)\n",
    "carriers_dollars.head(22)"
   ]
  },
  {
   "cell_type": "code",
   "execution_count": null,
   "metadata": {},
   "outputs": [],
   "source": [
    "# Pivot dollars table\n",
    "Mycolumn='Operating statistics type'\n",
    "carriers_dollarsT = carriers_dollars.pivot_table(index= ['REF_DATE','Air carrier levels'], columns= Mycolumn, values='VALUE')\n",
    "carriers_dollarsT.reset_index(inplace=True)\n",
    "display(carriers_dollarsT)"
   ]
  },
  {
   "cell_type": "code",
   "execution_count": null,
   "metadata": {},
   "outputs": [],
   "source": [
    "# Save dataframes\n",
    "carriers_numberT.to_csv('Carriers_Number.csv')\n",
    "carriers_dollarsT.to_csv('Carriers_Dollars.csv')"
   ]
  }
 ],
 "metadata": {
  "kernelspec": {
   "display_name": "base",
   "language": "python",
   "name": "python3"
  },
  "language_info": {
   "codemirror_mode": {
    "name": "ipython",
    "version": 3
   },
   "file_extension": ".py",
   "mimetype": "text/x-python",
   "name": "python",
   "nbconvert_exporter": "python",
   "pygments_lexer": "ipython3",
   "version": "3.9.12 (main, Apr  4 2022, 05:22:27) [MSC v.1916 64 bit (AMD64)]"
  },
  "orig_nbformat": 4,
  "vscode": {
   "interpreter": {
    "hash": "150a7f338faec3dec77e28f0d276773ea1ffe0ecd36647d9405828719a88ca87"
   }
  }
 },
 "nbformat": 4,
 "nbformat_minor": 2
}
