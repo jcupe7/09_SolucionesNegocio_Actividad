{
 "cells": [
  {
   "cell_type": "code",
   "execution_count": null,
   "metadata": {},
   "outputs": [],
   "source": [
    "import pandas as pd"
   ]
  },
  {
   "cell_type": "code",
   "execution_count": null,
   "metadata": {},
   "outputs": [],
   "source": [
    "# Read the data\n",
    "dfnt_raw = pd.read_csv('23100022PowerPlant.csv')\n",
    "print(f'Data frame shape: {dfnt_raw.shape}')\n",
    "print(f'Data frame column types:\\n{dfnt_raw.dtypes}')\n",
    "dfnt_raw.head(12)"
   ]
  },
  {
   "cell_type": "code",
   "execution_count": null,
   "metadata": {},
   "outputs": [],
   "source": [
    "# Get only columns we want to work with\n",
    "key = ['REF_DATE', 'Airports', 'Type of power plant', 'VALUE']\n",
    "df = dfnt_raw[key]\n",
    "df.head(12)"
   ]
  },
  {
   "cell_type": "code",
   "execution_count": null,
   "metadata": {},
   "outputs": [],
   "source": [
    "# Get fata from 2012-2016\n",
    "dfd = df.loc[df['REF_DATE']>=2012]\n",
    "dfd.sample(10)"
   ]
  },
  {
   "cell_type": "code",
   "execution_count": null,
   "metadata": {},
   "outputs": [],
   "source": [
    "# Pivot table\n",
    "Mycolumn='Type of power plant'\n",
    "df=dfd.pivot_table(index= ['REF_DATE','Airports'], columns= Mycolumn, values='VALUE')\n",
    "df.reset_index(inplace=True)\n",
    "display(df)"
   ]
  },
  {
   "cell_type": "code",
   "execution_count": null,
   "metadata": {},
   "outputs": [],
   "source": [
    "# Get 'All Airports' data in a df\n",
    "mask = df['Airports'] == 'Total, all airports'\n",
    "df_all = df[mask]\n",
    "display(df_all)"
   ]
  },
  {
   "cell_type": "code",
   "execution_count": null,
   "metadata": {},
   "outputs": [],
   "source": [
    "# Get each airport data in a df\n",
    "mask = df['Airports'] != 'Total, all airports'\n",
    "df_ap = df[mask]\n",
    "print(df_ap.shape)\n",
    "display(df_ap)"
   ]
  },
  {
   "cell_type": "code",
   "execution_count": null,
   "metadata": {},
   "outputs": [],
   "source": [
    "# Split Airports into AirportName and State\n",
    "df_ap[['Airport','State']] = df['Airports'].str.split(',',expand=True)\n",
    "df_ap = df_ap.drop(['Airports', 'Airport'], axis=1)\n",
    "display(df_ap)"
   ]
  },
  {
   "cell_type": "code",
   "execution_count": null,
   "metadata": {},
   "outputs": [],
   "source": [
    "#Group by state and year\n",
    "df_states = df_ap.groupby(['REF_DATE', 'State']).sum()\n",
    "df_states.reset_index(inplace=True)\n",
    "df_states.head(12)"
   ]
  }
 ],
 "metadata": {
  "kernelspec": {
   "display_name": "Python 3",
   "language": "python",
   "name": "python3"
  },
  "language_info": {
   "codemirror_mode": {
    "name": "ipython",
    "version": 3
   },
   "file_extension": ".py",
   "mimetype": "text/x-python",
   "name": "python",
   "nbconvert_exporter": "python",
   "pygments_lexer": "ipython3",
   "version": "3.9.5 (tags/v3.9.5:0a7dcbd, May  3 2021, 17:27:52) [MSC v.1928 64 bit (AMD64)]"
  },
  "orig_nbformat": 4,
  "vscode": {
   "interpreter": {
    "hash": "81794d4967e6c3204c66dcd87b604927b115b27c00565d3d43f05ba2f3a2cb0d"
   }
  }
 },
 "nbformat": 4,
 "nbformat_minor": 2
}
